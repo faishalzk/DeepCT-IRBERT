{
 "cells": [
  {
   "cell_type": "markdown",
   "metadata": {},
   "source": [
    "## Install Dependencies"
   ]
  },
  {
   "cell_type": "code",
   "execution_count": null,
   "metadata": {
    "colab": {
     "base_uri": "https://localhost:8080/"
    },
    "id": "otZZCx97f35s",
    "outputId": "e15364e5-9503-4dcd-a670-f412a2b9226b"
   },
   "outputs": [],
   "source": [
    "# !pip install rake-nltk\n",
    "# !pip install sentence-transformers\n",
    "# !pip install pandasql"
   ]
  },
  {
   "cell_type": "markdown",
   "metadata": {},
   "source": [
    "## Import Plugins"
   ]
  },
  {
   "cell_type": "code",
   "execution_count": 1,
   "metadata": {
    "colab": {
     "base_uri": "https://localhost:8080/"
    },
    "id": "3omkHEl_qL27",
    "outputId": "14c76d83-c000-417e-b0dc-0df1b9163367"
   },
   "outputs": [
    {
     "name": "stderr",
     "output_type": "stream",
     "text": [
      "[nltk_data] Downloading package stopwords to\n",
      "[nltk_data]     /Users/faishal/nltk_data...\n",
      "[nltk_data]   Package stopwords is already up-to-date!\n",
      "[nltk_data] Downloading package punkt to /Users/faishal/nltk_data...\n",
      "[nltk_data]   Package punkt is already up-to-date!\n"
     ]
    },
    {
     "data": {
      "text/plain": [
       "True"
      ]
     },
     "execution_count": 1,
     "metadata": {},
     "output_type": "execute_result"
    }
   ],
   "source": [
    "import math\n",
    "import numpy as np\n",
    "import pandas as pd\n",
    "from pandasql import sqldf\n",
    "from rake_nltk import Rake\n",
    "from sentence_transformers import SentenceTransformer\n",
    "\n",
    "import nltk\n",
    "nltk.download('stopwords')\n",
    "nltk.download('punkt')"
   ]
  },
  {
   "cell_type": "markdown",
   "metadata": {},
   "source": [
    "### Initiate Sentence Transformers for SBERT and mysql for data search"
   ]
  },
  {
   "cell_type": "code",
   "execution_count": 2,
   "metadata": {
    "id": "xmhkdKamfNM-"
   },
   "outputs": [],
   "source": [
    "model = SentenceTransformer('bert-base-nli-mean-tokens')\n",
    "mysql = lambda q: sqldf(q, globals())"
   ]
  },
  {
   "cell_type": "markdown",
   "metadata": {},
   "source": [
    "## Helper Functions"
   ]
  },
  {
   "cell_type": "code",
   "execution_count": 3,
   "metadata": {
    "id": "phQ2Rr_feGT9"
   },
   "outputs": [],
   "source": [
    "def extract_key(text, w, r):\n",
    "    r.extract_keywords_from_text(text) \n",
    "    a = r.get_ranked_phrases()\n",
    "    t = \"\"\n",
    "    cut = min(w, len(a))\n",
    "    count = 0\n",
    "    for phrase in a:\n",
    "        if count >= cut:\n",
    "            break\n",
    "        t = t + ' ' + phrase\n",
    "        count += 1\n",
    "    return t\n",
    "\n",
    "def scoring_bert(e1, e2):\n",
    "    cosine = np.dot(e1, e2) / (np.linalg.norm(e1) * np.linalg.norm(e2))\n",
    "    score = 1./(1 + math.exp(-100*(cosine - 0.95)))\n",
    "    #print(score)\n",
    "    return score\n",
    "\n",
    "def filter_bert(res, query, w, num, num_bert):\n",
    "    r = Rake()\n",
    "    text_corpus = []\n",
    "    score_arr = []\n",
    "    query = str(query)\n",
    "    query_corpus = []\n",
    "    query_corpus.append(query)\n",
    "    res_new = []\n",
    "\n",
    "    for index, row in res.iterrows():\n",
    "        text = row['text']\n",
    "        key_text = extract_key(text, w, r)\n",
    "        text_corpus.append(key_text)\n",
    "\n",
    "    text_emb = np.array(model.encode(text_corpus))\n",
    "    query_emb = np.array(model.encode(query_corpus))\n",
    "    query_emb = query_emb[0]\n",
    "\n",
    "    # print(\"text emb size: \", text_emb.shape)\n",
    "    # print(\"query emb size: \", query_emb.shape)\n",
    "\n",
    "    #for t, emb in zip(text_corpus, text_emb):\n",
    "    for emb in text_emb:\n",
    "        score = scoring_bert(query_emb, emb)\n",
    "        score_arr.append(score)\n",
    "        \n",
    "    score_arr = np.array(score_arr)\n",
    "    max_ind = score_arr.argsort()[-num_bert:][::-1]\n",
    "\n",
    "    for i in max_ind:\n",
    "        res_new.append(res.iloc[i])\n",
    "        \n",
    "    return pd.DataFrame(res_new)\n",
    "\n",
    "def add_rank(result):\n",
    "    ranked_result = pd.DataFrame()\n",
    "    ranked_result['queries_id'] = result['queries_id']\n",
    "    ranked_result['text_id'] = result['text_id']\n",
    "    ranked_result['rank'] = ranked_result.apply(lambda x: result.index.get_indexer_for(result[result.text_id == x['text_id']].index)[0] + 1, axis=1)\n",
    "    \n",
    "    return ranked_result"
   ]
  },
  {
   "cell_type": "markdown",
   "metadata": {},
   "source": [
    "## Import query data, passage data, and DeepCT initial ranking"
   ]
  },
  {
   "cell_type": "markdown",
   "metadata": {},
   "source": [
    "For this research we use MSMARCO dev data that contains 6980 queries with each query has 1000 candidate passage result"
   ]
  },
  {
   "cell_type": "code",
   "execution_count": 4,
   "metadata": {
    "id": "GveupPw9g-qP"
   },
   "outputs": [],
   "source": [
    "queries = pd.read_csv('data/queries/queries.dev.tsv', header=None, sep='\\t', \n",
    "                      names=[\"id\", \"query\"])\n",
    "\n",
    "#5000000\n",
    "texts1 = pd.read_csv('data/collection.tsv.1', header=None, sep='\\t', names=[\"id\", \"text\"])\n",
    "#3841823\n",
    "texts2 = pd.read_csv('data/collection.tsv.2', header=None, sep='\\t', names=[\"id\", \"text\"])\n",
    "texts = texts1.append(texts2, ignore_index = True)\n",
    "\n",
    "initial_record = pd.read_csv('data/deepct.dev.small.top1k.tsv', header=None, sep='\\t', \n",
    "                             names=[\"queries_id\", \"text_id\", \"rank\"])\n",
    "\n",
    "queries_id = initial_record.queries_id.unique()"
   ]
  },
  {
   "cell_type": "code",
   "execution_count": 5,
   "metadata": {},
   "outputs": [
    {
     "data": {
      "text/html": [
       "<div>\n",
       "<style scoped>\n",
       "    .dataframe tbody tr th:only-of-type {\n",
       "        vertical-align: middle;\n",
       "    }\n",
       "\n",
       "    .dataframe tbody tr th {\n",
       "        vertical-align: top;\n",
       "    }\n",
       "\n",
       "    .dataframe thead th {\n",
       "        text-align: right;\n",
       "    }\n",
       "</style>\n",
       "<table border=\"1\" class=\"dataframe\">\n",
       "  <thead>\n",
       "    <tr style=\"text-align: right;\">\n",
       "      <th></th>\n",
       "      <th>id</th>\n",
       "      <th>query</th>\n",
       "    </tr>\n",
       "  </thead>\n",
       "  <tbody>\n",
       "    <tr>\n",
       "      <th>0</th>\n",
       "      <td>1048578</td>\n",
       "      <td>cost of endless pools/swim spa</td>\n",
       "    </tr>\n",
       "    <tr>\n",
       "      <th>1</th>\n",
       "      <td>1048579</td>\n",
       "      <td>what is pcnt</td>\n",
       "    </tr>\n",
       "    <tr>\n",
       "      <th>2</th>\n",
       "      <td>1048580</td>\n",
       "      <td>what is pcb waste</td>\n",
       "    </tr>\n",
       "    <tr>\n",
       "      <th>3</th>\n",
       "      <td>1048581</td>\n",
       "      <td>what is pbis?</td>\n",
       "    </tr>\n",
       "    <tr>\n",
       "      <th>4</th>\n",
       "      <td>1048582</td>\n",
       "      <td>what is paysky</td>\n",
       "    </tr>\n",
       "    <tr>\n",
       "      <th>...</th>\n",
       "      <td>...</td>\n",
       "      <td>...</td>\n",
       "    </tr>\n",
       "    <tr>\n",
       "      <th>101088</th>\n",
       "      <td>480594</td>\n",
       "      <td>price of copper by ounce, pound</td>\n",
       "    </tr>\n",
       "    <tr>\n",
       "      <th>101089</th>\n",
       "      <td>524271</td>\n",
       "      <td>trazodone for dogs side effects</td>\n",
       "    </tr>\n",
       "    <tr>\n",
       "      <th>101090</th>\n",
       "      <td>1048565</td>\n",
       "      <td>who plays sebastian michaelis</td>\n",
       "    </tr>\n",
       "    <tr>\n",
       "      <th>101091</th>\n",
       "      <td>1048570</td>\n",
       "      <td>what is pearls before swine?</td>\n",
       "    </tr>\n",
       "    <tr>\n",
       "      <th>101092</th>\n",
       "      <td>524285</td>\n",
       "      <td>treadmill incline meaning</td>\n",
       "    </tr>\n",
       "  </tbody>\n",
       "</table>\n",
       "<p>101093 rows × 2 columns</p>\n",
       "</div>"
      ],
      "text/plain": [
       "             id                            query\n",
       "0       1048578   cost of endless pools/swim spa\n",
       "1       1048579                     what is pcnt\n",
       "2       1048580                what is pcb waste\n",
       "3       1048581                    what is pbis?\n",
       "4       1048582                   what is paysky\n",
       "...         ...                              ...\n",
       "101088   480594  price of copper by ounce, pound\n",
       "101089   524271  trazodone for dogs side effects\n",
       "101090  1048565    who plays sebastian michaelis\n",
       "101091  1048570     what is pearls before swine?\n",
       "101092   524285        treadmill incline meaning\n",
       "\n",
       "[101093 rows x 2 columns]"
      ]
     },
     "execution_count": 5,
     "metadata": {},
     "output_type": "execute_result"
    }
   ],
   "source": [
    "queries"
   ]
  },
  {
   "cell_type": "code",
   "execution_count": 6,
   "metadata": {},
   "outputs": [
    {
     "data": {
      "text/html": [
       "<div>\n",
       "<style scoped>\n",
       "    .dataframe tbody tr th:only-of-type {\n",
       "        vertical-align: middle;\n",
       "    }\n",
       "\n",
       "    .dataframe tbody tr th {\n",
       "        vertical-align: top;\n",
       "    }\n",
       "\n",
       "    .dataframe thead th {\n",
       "        text-align: right;\n",
       "    }\n",
       "</style>\n",
       "<table border=\"1\" class=\"dataframe\">\n",
       "  <thead>\n",
       "    <tr style=\"text-align: right;\">\n",
       "      <th></th>\n",
       "      <th>id</th>\n",
       "      <th>text</th>\n",
       "    </tr>\n",
       "  </thead>\n",
       "  <tbody>\n",
       "    <tr>\n",
       "      <th>0</th>\n",
       "      <td>0</td>\n",
       "      <td>The presence of communication amid scientific ...</td>\n",
       "    </tr>\n",
       "    <tr>\n",
       "      <th>1</th>\n",
       "      <td>1</td>\n",
       "      <td>The Manhattan Project and its atomic bomb help...</td>\n",
       "    </tr>\n",
       "    <tr>\n",
       "      <th>2</th>\n",
       "      <td>2</td>\n",
       "      <td>Essay on The Manhattan Project - The Manhattan...</td>\n",
       "    </tr>\n",
       "    <tr>\n",
       "      <th>3</th>\n",
       "      <td>3</td>\n",
       "      <td>The Manhattan Project was the name for a proje...</td>\n",
       "    </tr>\n",
       "    <tr>\n",
       "      <th>4</th>\n",
       "      <td>4</td>\n",
       "      <td>versions of each volume as well as complementa...</td>\n",
       "    </tr>\n",
       "    <tr>\n",
       "      <th>...</th>\n",
       "      <td>...</td>\n",
       "      <td>...</td>\n",
       "    </tr>\n",
       "    <tr>\n",
       "      <th>8841818</th>\n",
       "      <td>8841818</td>\n",
       "      <td>When metal salts emit short wavelengths of vis...</td>\n",
       "    </tr>\n",
       "    <tr>\n",
       "      <th>8841819</th>\n",
       "      <td>8841819</td>\n",
       "      <td>Thousands of people across the United States w...</td>\n",
       "    </tr>\n",
       "    <tr>\n",
       "      <th>8841820</th>\n",
       "      <td>8841820</td>\n",
       "      <td>The recipe that creates blue, for example, inc...</td>\n",
       "    </tr>\n",
       "    <tr>\n",
       "      <th>8841821</th>\n",
       "      <td>8841821</td>\n",
       "      <td>On Independence Days of yore, old-timey crowds...</td>\n",
       "    </tr>\n",
       "    <tr>\n",
       "      <th>8841822</th>\n",
       "      <td>8841822</td>\n",
       "      <td>View full size image. Behind the scenes of the...</td>\n",
       "    </tr>\n",
       "  </tbody>\n",
       "</table>\n",
       "<p>8841823 rows × 2 columns</p>\n",
       "</div>"
      ],
      "text/plain": [
       "              id                                               text\n",
       "0              0  The presence of communication amid scientific ...\n",
       "1              1  The Manhattan Project and its atomic bomb help...\n",
       "2              2  Essay on The Manhattan Project - The Manhattan...\n",
       "3              3  The Manhattan Project was the name for a proje...\n",
       "4              4  versions of each volume as well as complementa...\n",
       "...          ...                                                ...\n",
       "8841818  8841818  When metal salts emit short wavelengths of vis...\n",
       "8841819  8841819  Thousands of people across the United States w...\n",
       "8841820  8841820  The recipe that creates blue, for example, inc...\n",
       "8841821  8841821  On Independence Days of yore, old-timey crowds...\n",
       "8841822  8841822  View full size image. Behind the scenes of the...\n",
       "\n",
       "[8841823 rows x 2 columns]"
      ]
     },
     "execution_count": 6,
     "metadata": {},
     "output_type": "execute_result"
    }
   ],
   "source": [
    "texts"
   ]
  },
  {
   "cell_type": "code",
   "execution_count": 7,
   "metadata": {
    "scrolled": true
   },
   "outputs": [
    {
     "data": {
      "text/html": [
       "<div>\n",
       "<style scoped>\n",
       "    .dataframe tbody tr th:only-of-type {\n",
       "        vertical-align: middle;\n",
       "    }\n",
       "\n",
       "    .dataframe tbody tr th {\n",
       "        vertical-align: top;\n",
       "    }\n",
       "\n",
       "    .dataframe thead th {\n",
       "        text-align: right;\n",
       "    }\n",
       "</style>\n",
       "<table border=\"1\" class=\"dataframe\">\n",
       "  <thead>\n",
       "    <tr style=\"text-align: right;\">\n",
       "      <th></th>\n",
       "      <th>queries_id</th>\n",
       "      <th>text_id</th>\n",
       "      <th>rank</th>\n",
       "    </tr>\n",
       "  </thead>\n",
       "  <tbody>\n",
       "    <tr>\n",
       "      <th>0</th>\n",
       "      <td>1048585</td>\n",
       "      <td>7187157</td>\n",
       "      <td>1</td>\n",
       "    </tr>\n",
       "    <tr>\n",
       "      <th>1</th>\n",
       "      <td>1048585</td>\n",
       "      <td>7187155</td>\n",
       "      <td>2</td>\n",
       "    </tr>\n",
       "    <tr>\n",
       "      <th>2</th>\n",
       "      <td>1048585</td>\n",
       "      <td>7187156</td>\n",
       "      <td>3</td>\n",
       "    </tr>\n",
       "    <tr>\n",
       "      <th>3</th>\n",
       "      <td>1048585</td>\n",
       "      <td>7187160</td>\n",
       "      <td>4</td>\n",
       "    </tr>\n",
       "    <tr>\n",
       "      <th>4</th>\n",
       "      <td>1048585</td>\n",
       "      <td>7617404</td>\n",
       "      <td>5</td>\n",
       "    </tr>\n",
       "    <tr>\n",
       "      <th>...</th>\n",
       "      <td>...</td>\n",
       "      <td>...</td>\n",
       "      <td>...</td>\n",
       "    </tr>\n",
       "    <tr>\n",
       "      <th>6973625</th>\n",
       "      <td>1048565</td>\n",
       "      <td>3250398</td>\n",
       "      <td>996</td>\n",
       "    </tr>\n",
       "    <tr>\n",
       "      <th>6973626</th>\n",
       "      <td>1048565</td>\n",
       "      <td>7123172</td>\n",
       "      <td>997</td>\n",
       "    </tr>\n",
       "    <tr>\n",
       "      <th>6973627</th>\n",
       "      <td>1048565</td>\n",
       "      <td>1833829</td>\n",
       "      <td>998</td>\n",
       "    </tr>\n",
       "    <tr>\n",
       "      <th>6973628</th>\n",
       "      <td>1048565</td>\n",
       "      <td>2358006</td>\n",
       "      <td>999</td>\n",
       "    </tr>\n",
       "    <tr>\n",
       "      <th>6973629</th>\n",
       "      <td>1048565</td>\n",
       "      <td>4617450</td>\n",
       "      <td>1000</td>\n",
       "    </tr>\n",
       "  </tbody>\n",
       "</table>\n",
       "<p>6973630 rows × 3 columns</p>\n",
       "</div>"
      ],
      "text/plain": [
       "         queries_id  text_id  rank\n",
       "0           1048585  7187157     1\n",
       "1           1048585  7187155     2\n",
       "2           1048585  7187156     3\n",
       "3           1048585  7187160     4\n",
       "4           1048585  7617404     5\n",
       "...             ...      ...   ...\n",
       "6973625     1048565  3250398   996\n",
       "6973626     1048565  7123172   997\n",
       "6973627     1048565  1833829   998\n",
       "6973628     1048565  2358006   999\n",
       "6973629     1048565  4617450  1000\n",
       "\n",
       "[6973630 rows x 3 columns]"
      ]
     },
     "execution_count": 7,
     "metadata": {},
     "output_type": "execute_result"
    }
   ],
   "source": [
    "initial_record"
   ]
  },
  {
   "cell_type": "markdown",
   "metadata": {},
   "source": [
    "## Experiments"
   ]
  },
  {
   "cell_type": "markdown",
   "metadata": {},
   "source": [
    "We use all 6980 queries and 1000 sample query for experiment"
   ]
  },
  {
   "cell_type": "code",
   "execution_count": 9,
   "metadata": {},
   "outputs": [],
   "source": [
    "#Process only x query\n",
    "queries_id_1 = queries_id[:1]\n",
    "queries_id_100 = queries_id[:100]\n",
    "queries_id_1000 = queries_id[:1000]\n",
    "\n",
    "minw_bert = 100\n",
    "num_res_bm25 = 180\n",
    "num_res_bert = 100"
   ]
  },
  {
   "cell_type": "code",
   "execution_count": null,
   "metadata": {},
   "outputs": [],
   "source": [
    "all_result = pd.DataFrame()\n",
    "\n",
    "#Use only if process 1000 query for DeepCT MRR@10 evaluation\n",
    "# deepct_res = pd.DataFrame()\n",
    "\n",
    "#Process all 6980 queries\n",
    "num_of_queries = queries_id\n",
    "\n",
    "#Process only 1000 queries\n",
    "# num_of_queries = queries_id_1000\n",
    "\n",
    "progress = 0\n",
    "for query_id in num_of_queries:    \n",
    "    #Get records per query\n",
    "    text_by_query = initial_record.loc[initial_record['queries_id'] == query_id]\n",
    "    \n",
    "    #Use only if process 1000 query for DeepCT MRR@10 evaluation\n",
    "    # deepct_res = deepct_res.append(text_by_query)\n",
    "\n",
    "    #Get top 100 for bert refining\n",
    "    text_by_query = text_by_query.head(100)\n",
    "    \n",
    "    #Add corresponding text to dataframe\n",
    "    text_by_query['text'] = text_by_query.apply(lambda x: texts.loc[texts.id == x['text_id'], 'text'].values[0], axis=1)\n",
    "    \n",
    "    #Get query string\n",
    "    get_query_sql = \"SELECT query FROM queries WHERE id == \"+str(query_id)+\";\"\n",
    "    query = mysql(get_query_sql)['query'][0]\n",
    "    \n",
    "    #Refine initial results with bert\n",
    "    res_bert_bm = filter_bert(text_by_query, query, minw_bert, num_res_bm25, num_res_bert)\n",
    "    res_refined_ranked = add_rank(res_bert_bm)\n",
    "    all_result = all_result.append(res_refined_ranked)\n",
    "    \n",
    "    progress = progress + 1\n",
    "    print('progress: '+ str(progress) + '/' + str(len(num_of_queries)))"
   ]
  },
  {
   "cell_type": "markdown",
   "metadata": {},
   "source": [
    "## Save result for evaluation"
   ]
  },
  {
   "cell_type": "code",
   "execution_count": null,
   "metadata": {
    "colab": {
     "base_uri": "https://localhost:8080/"
    },
    "id": "l3gBnK7NWmLA",
    "outputId": "6bb5d94b-c844-4231-b44e-ad9935699c2e"
   },
   "outputs": [],
   "source": [
    "all_result.to_csv(\"data/bert100_all_res.tsv\", sep=\"\\t\", index=False, header=None)\n",
    "# deepct_res.to_csv(\"data/deepct_q100_res.tsv\", sep=\"\\t\", index=False, header=None)"
   ]
  }
 ],
 "metadata": {
  "accelerator": "GPU",
  "colab": {
   "collapsed_sections": [],
   "name": "HDCT_IRBERT.ipynb",
   "provenance": []
  },
  "kernelspec": {
   "display_name": "Python 3 (ipykernel)",
   "language": "python",
   "name": "python3"
  },
  "language_info": {
   "codemirror_mode": {
    "name": "ipython",
    "version": 3
   },
   "file_extension": ".py",
   "mimetype": "text/x-python",
   "name": "python",
   "nbconvert_exporter": "python",
   "pygments_lexer": "ipython3",
   "version": "3.7.3"
  }
 },
 "nbformat": 4,
 "nbformat_minor": 1
}
